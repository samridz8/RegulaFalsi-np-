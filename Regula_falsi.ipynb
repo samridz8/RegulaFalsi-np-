{
  "nbformat": 4,
  "nbformat_minor": 0,
  "metadata": {
    "colab": {
      "provenance": [],
      "authorship_tag": "ABX9TyPbLTnMQlklzThyEH7jHZTc",
      "include_colab_link": true
    },
    "kernelspec": {
      "name": "python3",
      "display_name": "Python 3"
    },
    "language_info": {
      "name": "python"
    }
  },
  "cells": [
    {
      "cell_type": "markdown",
      "metadata": {
        "id": "view-in-github",
        "colab_type": "text"
      },
      "source": [
        "<a href=\"https://colab.research.google.com/github/samridz8/RegulaFalsi-np-/blob/main/Regula_falsi.ipynb\" target=\"_parent\"><img src=\"https://colab.research.google.com/assets/colab-badge.svg\" alt=\"Open In Colab\"/></a>"
      ]
    },
    {
      "cell_type": "code",
      "execution_count": null,
      "metadata": {
        "colab": {
          "base_uri": "https://localhost:8080/"
        },
        "id": "TzM4babpSTQi",
        "outputId": "988aa212-9c74-446e-84a0-611de83fac30"
      },
      "outputs": [
        {
          "output_type": "stream",
          "name": "stdout",
          "text": [
            "Enter the function: x**3-2*x-5\n",
            "Enter a value: 2\n",
            "Enter b value: 3\n",
            "Enter number of iterations: 5\n",
            "iteration 1\t the root 2.059 \t functions value -0.391 \n",
            "\n",
            "iteration 2\t the root 2.081 \t functions value -0.147 \n",
            "\n",
            "iteration 3\t the root 2.090 \t functions value -0.055 \n",
            "\n",
            "iteration 4\t the root 2.093 \t functions value -0.020 \n",
            "\n",
            "iteration 5\t the root 2.094 \t functions value -0.007 \n",
            "\n"
          ]
        }
      ],
      "source": [
        "#obtain root by regula-falsi method\n",
        "from sympy import *\n",
        "x = symbols('x')\n",
        "g = input(\"Enter the function: \")\n",
        "f = lambdify(x,g)\n",
        "a = float(input(\"Enter a value: \"))\n",
        "b = float(input(\"Enter b value: \"))\n",
        "N = int(input(\"Enter number of iterations: \"))\n",
        "\n",
        "for i in range(1,N+1):\n",
        "  c = (a*f(b)-b*f(a))/(f(b)-f(a))\n",
        "  if(f(a)*f(c)<0):\n",
        "    b=c\n",
        "  else:\n",
        "    a=c\n",
        "  print(\"iteration %d\\t the root %.3f \\t functions value %.3f \\n\"%(i,c,f(c)))"
      ]
    },
    {
      "cell_type": "code",
      "source": [],
      "metadata": {
        "id": "ijpdSZTooTn_"
      },
      "execution_count": null,
      "outputs": []
    },
    {
      "cell_type": "code",
      "source": [
        "from sympy import *\n",
        "x = symbols('x')\n",
        "g = input(\"Enter the function: \")\n",
        "f = lambdify(x,g)\n",
        "a = float(input(\"Enter a value: \"))\n",
        "b = float(input(\"Enter b value: \"))\n",
        "N = float(input(\"Enter tolarence: \"))\n",
        "x=a\n",
        "c=b\n",
        "i=0\n",
        "while(abs(x-c)>=N):\n",
        "  x=c\n",
        "  c= (a*f(b)-b*f(a))/(f(b)-f(a))\n",
        "  if(f(a)*f(c)<0):\n",
        "    b=c\n",
        "  else:\n",
        "    a=c\n",
        "    i = i+1\n",
        "  print(\"iteration %d\\t the root %.3f \\t functions value %.3f \\n\"%(i,c,f(c)))\n",
        "print(\"Final value of the root is %.5f\"%c)\n"
      ],
      "metadata": {
        "colab": {
          "base_uri": "https://localhost:8080/"
        },
        "id": "LV6PkTbQW2OY",
        "outputId": "f36308c2-5de8-48e9-a32d-213134c2c2e7"
      },
      "execution_count": null,
      "outputs": [
        {
          "output_type": "stream",
          "name": "stdout",
          "text": [
            "Enter the function: x**3-2*x-5\n",
            "Enter a value: 2\n",
            "Enter b value: 3\n",
            "Enter tolarence: 0.001\n",
            "iteration 1\t the root 2.059 \t functions value -0.391 \n",
            "\n",
            "iteration 2\t the root 2.081 \t functions value -0.147 \n",
            "\n",
            "iteration 3\t the root 2.090 \t functions value -0.055 \n",
            "\n",
            "iteration 4\t the root 2.093 \t functions value -0.020 \n",
            "\n",
            "iteration 5\t the root 2.094 \t functions value -0.007 \n",
            "\n",
            "iteration 6\t the root 2.094 \t functions value -0.003 \n",
            "\n",
            "Final value of the root is 2.09431\n"
          ]
        }
      ]
    },
    {
      "cell_type": "code",
      "source": [
        "from sympy import*\n",
        "x = symbols('x')\n",
        "g =  input(\"Enter the function: \")\n",
        "f = lambdify(x,g)\n",
        "dg = diff(g)\n",
        "df = lambdify(x,dg)\n",
        "x0 = float(input(\"Enter the initial approximation: \"))\n",
        "n = int(input(\"Enter the number of iterations: \"))\n",
        "for i in range(1,n+1):\n",
        "  x1 = (x0 - (f(x0)/df(x0)))\n",
        "  print(\"iteration %d\\t the root %.3f \\t functions value %.3f \\n\"%(i,x1,f(x1)))\n",
        "  x0 = x1\n",
        "\n",
        "\n"
      ],
      "metadata": {
        "colab": {
          "base_uri": "https://localhost:8080/"
        },
        "id": "sPawQajXekuU",
        "outputId": "b1ef06f2-8207-4f1d-ad87-3da066a27fea"
      },
      "execution_count": null,
      "outputs": [
        {
          "output_type": "stream",
          "name": "stdout",
          "text": [
            "Enter the function: 3*x-cos(x)-1\n",
            "Enter the initial approximation: 1\n",
            "Enter the number of iterations: 5\n",
            "iteration 1\t the root 0.620 \t functions value 0.046 \n",
            "\n",
            "iteration 2\t the root 0.607 \t functions value 0.000 \n",
            "\n",
            "iteration 3\t the root 0.607 \t functions value 0.000 \n",
            "\n",
            "iteration 4\t the root 0.607 \t functions value 0.000 \n",
            "\n",
            "iteration 5\t the root 0.607 \t functions value -0.000 \n",
            "\n"
          ]
        }
      ]
    },
    {
      "cell_type": "code",
      "source": [],
      "metadata": {
        "id": "LjU_n9XRiGK9"
      },
      "execution_count": null,
      "outputs": []
    }
  ]
}